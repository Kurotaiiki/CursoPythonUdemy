{
 "cells": [
  {
   "cell_type": "code",
   "execution_count": 16,
   "metadata": {},
   "outputs": [
    {
     "name": "stdout",
     "output_type": "stream",
     "text": [
      "cinco\n",
      "0 1 2 \n",
      "3 4 5 \n",
      "6 7 8 \n",
      "\n",
      "a b c \n",
      "d e f \n",
      "g h i \n",
      "\n",
      "cero uno dos \n",
      "tres cuatro cinco \n",
      "seis siete ocho \n",
      "\n"
     ]
    }
   ],
   "source": [
    "tabla_1= [[0,1,2],[3,4,5],[6,7,8]]\n",
    "tabla_2= [[\"a\",\"b\",\"c\"],[\"d\",\"e\",\"f\"],[\"g\",\"h\",\"i\"]]\n",
    "tabla_3= [[\"cero\",\"uno\",\"dos\"],[\"tres\",\"cuatro\",\"cinco\"],[\"seis\",\"siete\",\"ocho\"]]\n",
    "\n",
    "cubo=[tabla_1,tabla_2,tabla_3]\n",
    "\n",
    "print(cubo[2][1][2])\n",
    "\n",
    "for i,tablas in enumerate(cubo):\n",
    "    for j,filas in enumerate(tablas):\n",
    "        for k,tablas in enumerate(filas):\n",
    "            print(cubo[i][j][k],end=\" \")\n",
    "        print()\n",
    "    print()\n",
    "    "
   ]
  },
  {
   "cell_type": "code",
   "execution_count": 2,
   "metadata": {},
   "outputs": [
    {
     "name": "stdout",
     "output_type": "stream",
     "text": [
      "0\n",
      "1\n",
      "2\n",
      "3\n",
      "4\n",
      "5\n",
      "6\n",
      "7\n",
      "8\n",
      "9\n",
      "10\n"
     ]
    }
   ],
   "source": []
  },
  {
   "cell_type": "code",
   "execution_count": null,
   "metadata": {},
   "outputs": [],
   "source": []
  }
 ],
 "metadata": {
  "kernelspec": {
   "display_name": "Python 3 (ipykernel)",
   "language": "python",
   "name": "python3"
  },
  "language_info": {
   "codemirror_mode": {
    "name": "ipython",
    "version": 3
   },
   "file_extension": ".py",
   "mimetype": "text/x-python",
   "name": "python",
   "nbconvert_exporter": "python",
   "pygments_lexer": "ipython3",
   "version": "3.10.4"
  }
 },
 "nbformat": 4,
 "nbformat_minor": 1
}
