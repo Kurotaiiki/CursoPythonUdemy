{
 "cells": [
  {
   "cell_type": "code",
   "execution_count": 82,
   "metadata": {},
   "outputs": [
    {
     "data": {
      "text/plain": [
       "'hola $ $odos'"
      ]
     },
     "execution_count": 82,
     "metadata": {},
     "output_type": "execute_result"
    }
   ],
   "source": [
    "def reemplazo(string=\"\" ):\n",
    "\n",
    "  string=str(string)\n",
    "  l=list(string[:])\n",
    "\n",
    "  for i in range(len(l)):\n",
    "    if string[i].isupper():\n",
    "        l[i]=\"$\"\n",
    "  \n",
    "  string=\"\"\n",
    "  for i in range(len(l)):\n",
    "      string+=l[i]\n",
    "\n",
    "  return string # aquí debes retornar el resultado\n",
    "\n",
    "\n",
    "reemplazo(\"hola A Todos\")"
   ]
  },
  {
   "cell_type": "code",
   "execution_count": 76,
   "metadata": {},
   "outputs": [
    {
     "name": "stdout",
     "output_type": "stream",
     "text": [
      "hsla a todos\n"
     ]
    }
   ],
   "source": [
    "po=\"hola a todos\"\\\n",
    "\n",
    "pi=list(po[:])\n",
    "pi[1]=\"s\"\n",
    "po=\"\"\n",
    "for i in range(len(pi)):\n",
    "    po+=pi[i]\n",
    "\n",
    "print(po)"
   ]
  },
  {
   "cell_type": "code",
   "execution_count": null,
   "metadata": {},
   "outputs": [],
   "source": []
  }
 ],
 "metadata": {
  "interpreter": {
   "hash": "8f4404acf085f2534d5de7e3ced48dfebf917ac95e538707fdc6e39000ac4c60"
  },
  "kernelspec": {
   "display_name": "Python 3.10.4 64-bit",
   "language": "python",
   "name": "python3"
  },
  "language_info": {
   "name": "python",
   "version": "3.10.4"
  }
 },
 "nbformat": 4,
 "nbformat_minor": 0
}
