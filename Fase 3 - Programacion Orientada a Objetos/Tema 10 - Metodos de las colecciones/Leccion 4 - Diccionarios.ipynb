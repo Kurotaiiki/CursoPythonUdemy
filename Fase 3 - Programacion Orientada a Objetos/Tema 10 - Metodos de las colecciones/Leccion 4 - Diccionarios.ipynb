{
 "cells": [
  {
   "cell_type": "code",
   "execution_count": 191,
   "metadata": {},
   "outputs": [
    {
     "name": "stdout",
     "output_type": "stream",
     "text": [
      "3\n"
     ]
    }
   ],
   "source": [
    "tablero = [ [' ', 'X', ' ', 'X'],\n",
    "            ['X', ' ', ' ', ' '],\n",
    "            [' ', 'X', 'X', ' '],\n",
    "            ['X', ' ', ' ', 'X']]\n",
    "\n",
    "def buscaminas(tablero,i,j):\n",
    "\n",
    "    mina=0       \n",
    "\n",
    "    if j<0 or i<0:\n",
    "        return (\"no puede ser negativa la coordenada\")\n",
    "\n",
    "    for k in range(len(tablero)):\n",
    "        tamaño=len(tablero[0])\n",
    "        if len(tablero[k]) != tamaño:\n",
    "            return \"todas las sublistas deben ser iguales en tammanio\"\n",
    "        \n",
    "    \n",
    "    for k in range(-1,2,1):\n",
    "        for l in range(-1,2,1):\n",
    "            if tablero[i+k][j+l]==\"X\" and i+k>=0 and j+l>=0:\n",
    "                mina+=1\n",
    "            else:\n",
    "                pass \n",
    "    return mina\n",
    "\n",
    "# debes modificar todos los elementos de la función\n",
    "# cuidando el retorno, nombre y argumentos\n",
    "\n",
    "\n",
    "print(buscaminas(tablero,2,0))\n",
    "\n"
   ]
  },
  {
   "cell_type": "code",
   "execution_count": null,
   "metadata": {},
   "outputs": [],
   "source": []
  }
 ],
 "metadata": {
  "interpreter": {
   "hash": "8f4404acf085f2534d5de7e3ced48dfebf917ac95e538707fdc6e39000ac4c60"
  },
  "kernelspec": {
   "display_name": "Python 3.10.4 64-bit",
   "language": "python",
   "name": "python3"
  },
  "language_info": {
   "name": "python",
   "version": "3.10.4"
  }
 },
 "nbformat": 4,
 "nbformat_minor": 0
}
