{
 "cells": [
  {
   "cell_type": "code",
   "execution_count": 4,
   "metadata": {},
   "outputs": [
    {
     "name": "stdout",
     "output_type": "stream",
     "text": [
      "un texto otro texto y un numero 10\n"
     ]
    }
   ],
   "source": [
    "v=\"otro texto\"\n",
    "n=10\n",
    "print(\"un texto\",v,\"y un numero\",n)"
   ]
  },
  {
   "cell_type": "code",
   "execution_count": 2,
   "metadata": {},
   "outputs": [
    {
     "name": "stdout",
     "output_type": "stream",
     "text": [
      "un texto un texto y un numero 10\n"
     ]
    }
   ],
   "source": [
    "c=\"un texto {} y un numero {}\".format(v,n)\n",
    "print(c)"
   ]
  },
  {
   "cell_type": "code",
   "execution_count": 7,
   "metadata": {},
   "outputs": [
    {
     "name": "stdout",
     "output_type": "stream",
     "text": [
      "un texto \"otro texto\" y un numero \"10\"\n"
     ]
    }
   ],
   "source": [
    "print(\"un texto \\\"{t}\\\" y un numero \\\"{n}\\\"\".format(t=v,n=n))"
   ]
  },
  {
   "cell_type": "code",
   "execution_count": 16,
   "metadata": {},
   "outputs": [
    {
     "name": "stdout",
     "output_type": "stream",
     "text": [
      "                     Palabra alineada a la derecha\n",
      "Palabra alineada a la izquierda                   \n",
      "            Palabra alineada al centro            \n",
      "                                          otro tex\n"
     ]
    }
   ],
   "source": [
    "print(\"{:>50}\".format(\"Palabra alineada a la derecha\"))\n",
    "print(\"{:<50}\".format(\"Palabra alineada a la izquierda\"))\n",
    "print(\"{:^50}\".format(\"Palabra alineada al centro\"))\n",
    "print(\"{t:>50.8}\".format(\"Palabra alineada a la derecha\",t=v))\n"
   ]
  },
  {
   "cell_type": "code",
   "execution_count": 27,
   "metadata": {},
   "outputs": [
    {
     "name": "stdout",
     "output_type": "stream",
     "text": [
      "10.6\n",
      " 100\n",
      "1000\n"
     ]
    }
   ],
   "source": [
    "print(\"{:4.1f}\".format(10.567))\n",
    "print(\"{:4}\".format(100,n=\"-\"))\n",
    "print(\"{:4}\".format(1000,n=\"-\"))\n"
   ]
  },
  {
   "cell_type": "code",
   "execution_count": null,
   "metadata": {},
   "outputs": [],
   "source": []
  }
 ],
 "metadata": {
  "interpreter": {
   "hash": "8f4404acf085f2534d5de7e3ced48dfebf917ac95e538707fdc6e39000ac4c60"
  },
  "kernelspec": {
   "display_name": "Python 3.10.4 64-bit",
   "language": "python",
   "name": "python3"
  },
  "language_info": {
   "codemirror_mode": {
    "name": "ipython",
    "version": 3
   },
   "file_extension": ".py",
   "mimetype": "text/x-python",
   "name": "python",
   "nbconvert_exporter": "python",
   "pygments_lexer": "ipython3",
   "version": "3.10.4"
  }
 },
 "nbformat": 4,
 "nbformat_minor": 0
}
